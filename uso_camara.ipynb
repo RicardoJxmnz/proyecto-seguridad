{
 "cells": [
  {
   "cell_type": "code",
   "execution_count": 2,
   "id": "3f33a2d2",
   "metadata": {},
   "outputs": [],
   "source": [
    "import cv2"
   ]
  },
  {
   "cell_type": "code",
   "execution_count": 3,
   "id": "d641cb7b",
   "metadata": {},
   "outputs": [
    {
     "name": "stdout",
     "output_type": "stream",
     "text": [
      "Presiona 'q' para salir.\n"
     ]
    }
   ],
   "source": [
    "# Activar cámara\n",
    "cap = cv2.VideoCapture(0)\n",
    "print(\"Presiona 'q' para salir.\")"
   ]
  },
  {
   "cell_type": "code",
   "execution_count": null,
   "id": "b836543c",
   "metadata": {},
   "outputs": [],
   "source": [
    "while True:\n",
    "    # Captura frame por frame\n",
    "    ret, frame = cap.read()\n",
    "\n",
    "    #Si no recibe ningun frame rompe\n",
    "    if not ret:\n",
    "        break\n",
    "\n",
    "    # Muestra el frame en una ventana llamada 'Cámara'\n",
    "    cv2.imshow('Cámara', frame)\n",
    "    \n",
    "    #Condicion para salir\n",
    "    if cv2.waitKey(1) & 0xFF == ord('q'):\n",
    "        break\n",
    "\n",
    "# Libera la cámara y cierra la ventana\n",
    "cap.release()\n",
    "cv2.destroyAllWindows()"
   ]
  }
 ],
 "metadata": {
  "kernelspec": {
   "display_name": "Python 3",
   "language": "python",
   "name": "python3"
  },
  "language_info": {
   "codemirror_mode": {
    "name": "ipython",
    "version": 3
   },
   "file_extension": ".py",
   "mimetype": "text/x-python",
   "name": "python",
   "nbconvert_exporter": "python",
   "pygments_lexer": "ipython3",
   "version": "3.12.10"
  }
 },
 "nbformat": 4,
 "nbformat_minor": 5
}
