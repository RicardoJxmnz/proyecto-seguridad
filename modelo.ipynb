{
 "cells": [
  {
   "cell_type": "code",
   "execution_count": 2,
   "id": "306df650",
   "metadata": {},
   "outputs": [],
   "source": [
    "from ultralytics import YOLO"
   ]
  },
  {
   "cell_type": "code",
   "execution_count": 3,
   "id": "c9ba900c",
   "metadata": {},
   "outputs": [],
   "source": [
    "# Cargar modelo YOLO preentrenado (por ejemplo, yolov8n.pt o yolov5n.pt)\n",
    "model = YOLO(\"yolov8n.pt\")  # usa yolov5n.pt si prefieres"
   ]
  },
  {
   "cell_type": "code",
   "execution_count": 4,
   "id": "bb4b69a2",
   "metadata": {},
   "outputs": [
    {
     "name": "stdout",
     "output_type": "stream",
     "text": [
      "{0: 'person', 1: 'bicycle', 2: 'car', 3: 'motorcycle', 4: 'airplane', 5: 'bus', 6: 'train', 7: 'truck', 8: 'boat', 9: 'traffic light', 10: 'fire hydrant', 11: 'stop sign', 12: 'parking meter', 13: 'bench', 14: 'bird', 15: 'cat', 16: 'dog', 17: 'horse', 18: 'sheep', 19: 'cow', 20: 'elephant', 21: 'bear', 22: 'zebra', 23: 'giraffe', 24: 'backpack', 25: 'umbrella', 26: 'handbag', 27: 'tie', 28: 'suitcase', 29: 'frisbee', 30: 'skis', 31: 'snowboard', 32: 'sports ball', 33: 'kite', 34: 'baseball bat', 35: 'baseball glove', 36: 'skateboard', 37: 'surfboard', 38: 'tennis racket', 39: 'bottle', 40: 'wine glass', 41: 'cup', 42: 'fork', 43: 'knife', 44: 'spoon', 45: 'bowl', 46: 'banana', 47: 'apple', 48: 'sandwich', 49: 'orange', 50: 'broccoli', 51: 'carrot', 52: 'hot dog', 53: 'pizza', 54: 'donut', 55: 'cake', 56: 'chair', 57: 'couch', 58: 'potted plant', 59: 'bed', 60: 'dining table', 61: 'toilet', 62: 'tv', 63: 'laptop', 64: 'mouse', 65: 'remote', 66: 'keyboard', 67: 'cell phone', 68: 'microwave', 69: 'oven', 70: 'toaster', 71: 'sink', 72: 'refrigerator', 73: 'book', 74: 'clock', 75: 'vase', 76: 'scissors', 77: 'teddy bear', 78: 'hair drier', 79: 'toothbrush'}\n"
     ]
    }
   ],
   "source": [
    "print(model.names)"
   ]
  },
  {
   "cell_type": "code",
   "execution_count": 10,
   "id": "ba5e3349",
   "metadata": {},
   "outputs": [
    {
     "name": "stdout",
     "output_type": "stream",
     "text": [
      "\n",
      "image 1/1 C:\\Users\\rcrdo\\OneDrive\\Escritorio\\Nueva carpeta\\dataset\\A\\194247113-hand-showing-letter-a-sign-language-alphabet-vector-illustration-finger-in-different-position.jpg: 640x640 1 kite, 583.1ms\n",
      "Speed: 21.4ms preprocess, 583.1ms inference, 2.9ms postprocess per image at shape (1, 3, 640, 640)\n"
     ]
    }
   ],
   "source": [
    "results = model(\"C:/Users/rcrdo/OneDrive/Escritorio/Nueva carpeta/dataset/A/194247113-hand-showing-letter-a-sign-language-alphabet-vector-illustration-finger-in-different-position.jpg\")"
   ]
  },
  {
   "cell_type": "code",
   "execution_count": 11,
   "id": "986c0564",
   "metadata": {},
   "outputs": [],
   "source": [
    "results[0].show()  "
   ]
  },
  {
   "cell_type": "code",
   "execution_count": 8,
   "id": "22ca21db",
   "metadata": {},
   "outputs": [
    {
     "name": "stdout",
     "output_type": "stream",
     "text": [
      "person\n",
      "laptop\n"
     ]
    }
   ],
   "source": [
    "resultado = results[0]\n",
    "clases = model.names\n",
    "for c in resultado.boxes.cls:\n",
    "    clase = int(c.item()) \n",
    "    print(clases[clase])"
   ]
  }
 ],
 "metadata": {
  "kernelspec": {
   "display_name": "Python 3",
   "language": "python",
   "name": "python3"
  },
  "language_info": {
   "codemirror_mode": {
    "name": "ipython",
    "version": 3
   },
   "file_extension": ".py",
   "mimetype": "text/x-python",
   "name": "python",
   "nbconvert_exporter": "python",
   "pygments_lexer": "ipython3",
   "version": "3.12.10"
  }
 },
 "nbformat": 4,
 "nbformat_minor": 5
}
